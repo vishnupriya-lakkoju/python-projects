{
  "nbformat": 4,
  "nbformat_minor": 0,
  "metadata": {
    "colab": {
      "provenance": [],
      "authorship_tag": "ABX9TyNbyvFNvTwcHfAZuCi70WTo",
      "include_colab_link": true
    },
    "kernelspec": {
      "name": "python3",
      "display_name": "Python 3"
    },
    "language_info": {
      "name": "python"
    }
  },
  "cells": [
    {
      "cell_type": "markdown",
      "metadata": {
        "id": "view-in-github",
        "colab_type": "text"
      },
      "source": [
        "<a href=\"https://colab.research.google.com/github/vishnupriya-lakkoju/python-projects/blob/main/Introduction_to_numpy.ipynb\" target=\"_parent\"><img src=\"https://colab.research.google.com/assets/colab-badge.svg\" alt=\"Open In Colab\"/></a>"
      ]
    },
    {
      "cell_type": "code",
      "execution_count": null,
      "metadata": {
        "id": "7I6ji84UtfU5"
      },
      "outputs": [],
      "source": [
        "#Numpy-numeric python\n",
        "#most powerful package -library\n",
        "#Numpy- dimensions\n",
        "#speed(numpy operations)>speed(list operations)\n",
        "#size(numpy operations)<size(list operations)\n",
        "#memory optimization(numpy)>memory optimization(list)"
      ]
    },
    {
      "cell_type": "code",
      "source": [
        "#install numpy- pip3 install numpy/pip install numpy\n",
        "import numpy as np"
      ],
      "metadata": {
        "id": "S_xsH282vvHU"
      },
      "execution_count": null,
      "outputs": []
    },
    {
      "cell_type": "code",
      "source": [
        "#craate a numpy array\n",
        "# 1D array\n",
        "arr1D=np.array([1,2,3,4,5])"
      ],
      "metadata": {
        "id": "5e1efg5wwDIO"
      },
      "execution_count": null,
      "outputs": []
    },
    {
      "cell_type": "code",
      "source": [
        "print(arr1D)"
      ],
      "metadata": {
        "colab": {
          "base_uri": "https://localhost:8080/"
        },
        "id": "-GEytO2hwqXH",
        "outputId": "e3f790c8-8b68-4fbb-9fee-aee955763ad9"
      },
      "execution_count": null,
      "outputs": [
        {
          "output_type": "stream",
          "name": "stdout",
          "text": [
            "[1 2 3 4 5]\n"
          ]
        }
      ]
    },
    {
      "cell_type": "code",
      "source": [
        "#creating a 2D array\n",
        "arr2D=np.array([[1,2,3],[4,5,6]])"
      ],
      "metadata": {
        "id": "2fL_U2xEwvx1"
      },
      "execution_count": null,
      "outputs": []
    },
    {
      "cell_type": "code",
      "source": [
        "print(arr2D)"
      ],
      "metadata": {
        "colab": {
          "base_uri": "https://localhost:8080/"
        },
        "id": "pmxc6IHsyvZR",
        "outputId": "d8a90d5c-81fe-4c82-b944-bbc585536921"
      },
      "execution_count": null,
      "outputs": [
        {
          "output_type": "stream",
          "name": "stdout",
          "text": [
            "[[1 2 3]\n",
            " [4 5 6]]\n"
          ]
        }
      ]
    },
    {
      "cell_type": "code",
      "source": [
        "#creating arrays with default values\n",
        "#creating matrix with all values of elements as '1'\n",
        "allZeros=np.zeros((2,3))\n",
        "print(allZeros)"
      ],
      "metadata": {
        "colab": {
          "base_uri": "https://localhost:8080/"
        },
        "id": "H-oP1-4Gy4zj",
        "outputId": "b83be9f6-7c44-412f-ba0c-95e3dcffcf4b"
      },
      "execution_count": null,
      "outputs": [
        {
          "output_type": "stream",
          "name": "stdout",
          "text": [
            "[[0. 0. 0.]\n",
            " [0. 0. 0.]]\n"
          ]
        }
      ]
    },
    {
      "cell_type": "code",
      "source": [
        "#creating matrix with all values of elements as '1'\n",
        "allOnes=np.ones((2,3))\n",
        "print(allOnes)"
      ],
      "metadata": {
        "colab": {
          "base_uri": "https://localhost:8080/"
        },
        "id": "UfFnAoG3zWe1",
        "outputId": "bd5ea0b1-0bf6-4ae2-a89a-bf4636b90860"
      },
      "execution_count": null,
      "outputs": [
        {
          "output_type": "stream",
          "name": "stdout",
          "text": [
            "[[1. 1. 1.]\n",
            " [1. 1. 1.]]\n"
          ]
        }
      ]
    },
    {
      "cell_type": "code",
      "source": [
        "#creating matrix with all values of elements as 'constant values-n~fill values'\n",
        "allConstant=np.full((2,3),6)\n",
        "print(allConstant)"
      ],
      "metadata": {
        "colab": {
          "base_uri": "https://localhost:8080/"
        },
        "id": "zYCVh8yFz3Hi",
        "outputId": "a6905248-71b2-4e51-e92b-78d2e44aa084"
      },
      "execution_count": null,
      "outputs": [
        {
          "output_type": "stream",
          "name": "stdout",
          "text": [
            "[[6 6 6]\n",
            " [6 6 6]]\n"
          ]
        }
      ]
    },
    {
      "cell_type": "code",
      "source": [
        "#creating identity matrix - I - square matrix\n",
        "# Identity matrix-Aii=1&&Aij=0\n",
        "# For all A belongs to R MxN\n",
        "identity=np.eye(4)\n",
        "print(identity)"
      ],
      "metadata": {
        "colab": {
          "base_uri": "https://localhost:8080/"
        },
        "id": "J5_9Hy3j0f-x",
        "outputId": "a4d3196c-fe22-40cb-9f11-91e0290eb25f"
      },
      "execution_count": null,
      "outputs": [
        {
          "output_type": "stream",
          "name": "stdout",
          "text": [
            "[[1. 0. 0. 0.]\n",
            " [0. 1. 0. 0.]\n",
            " [0. 0. 1. 0.]\n",
            " [0. 0. 0. 1.]]\n"
          ]
        }
      ]
    },
    {
      "cell_type": "code",
      "source": [
        "# creating random matrices\n",
        "# between 0 and 1\n",
        "rand1=np.random.rand(3,3)\n",
        "print(rand1)\n",
        "#between a and b\n",
        "rand2=np.random.randint(10,20,(3,3))\n",
        "print(rand2)"
      ],
      "metadata": {
        "colab": {
          "base_uri": "https://localhost:8080/"
        },
        "id": "9WEeoTQl1vrp",
        "outputId": "3d2878cf-65d7-42dc-b073-f62c9ab32b3a"
      },
      "execution_count": null,
      "outputs": [
        {
          "output_type": "stream",
          "name": "stdout",
          "text": [
            "[[0.62283829 0.8793818  0.04072851]\n",
            " [0.26187005 0.15170758 0.69687248]\n",
            " [0.00568981 0.72408489 0.04320119]]\n",
            "[[10 15 19]\n",
            " [13 15 13]\n",
            " [14 12 12]]\n"
          ]
        }
      ]
    },
    {
      "cell_type": "code",
      "source": [
        "# array properties\n",
        "arr=np.array([[1,2,3,4],[2,3,4,5]])\n",
        "print(arr)\n",
        "# shape of array\n",
        "print(f\" The shape of the array is :{arr.shape}\")\n",
        "# size of array\n",
        "print(f\" The size of the array is :{arr.size}\")\n",
        "# data type\n",
        "print(f\" The data type of the array is :{arr.dtype}\")\n",
        "# dimensions of array\n",
        "print(f\" The dimension of the array is :{arr.ndim}\")"
      ],
      "metadata": {
        "colab": {
          "base_uri": "https://localhost:8080/"
        },
        "id": "sYsCSKC14ncj",
        "outputId": "67e6fd91-fbc0-435c-b304-386d2f0dd654"
      },
      "execution_count": null,
      "outputs": [
        {
          "output_type": "stream",
          "name": "stdout",
          "text": [
            "[[1 2 3 4]\n",
            " [2 3 4 5]]\n",
            " The shape of the array is :(2, 4)\n",
            " The size of the array is :8\n",
            " The data type of the array is :int64\n",
            " The dimension of the array is :2\n"
          ]
        }
      ]
    },
    {
      "cell_type": "code",
      "source": [
        "#Indexing and slicing\n",
        "#Access the elements in 1D array\n",
        "arr=np.array([1,2,3,4])\n",
        "print(arr)\n",
        "print(arr[0])\n",
        "#slicing the elements\n",
        "print(arr[1:3])\n",
        "#Accessing elements in 2D array\n",
        "arr2=np.array([[1,2,3],[2,3,4]])\n",
        "print(arr2)\n",
        "#slicing the elements\n",
        "print(arr2[1,1])\n",
        "print(arr2[0,:])# first row with all columns\n",
        "print(arr2[:,0])# first column with all rows"
      ],
      "metadata": {
        "colab": {
          "base_uri": "https://localhost:8080/"
        },
        "id": "k5E-6DVP7nl3",
        "outputId": "5d65239b-d813-4277-ec32-a5346f9fc19e"
      },
      "execution_count": null,
      "outputs": [
        {
          "output_type": "stream",
          "name": "stdout",
          "text": [
            "[1 2 3 4]\n",
            "1\n",
            "[2 3]\n",
            "[[1 2 3]\n",
            " [2 3 4]]\n",
            "3\n",
            "[1 2 3]\n",
            "[1 2]\n"
          ]
        }
      ]
    },
    {
      "cell_type": "code",
      "source": [
        "l1=[]\n",
        "[l1.append(_) for _ in range(10)]\n",
        "print(l1)\n",
        "#alternative\n",
        "l2=np.arange(0,10)\n",
        "print(l2)\n",
        "l3=np.arange(10,0,-1)\n",
        "print(l3)\n",
        "l4=np.arange(10,-10,-3)\n",
        "print(l4)"
      ],
      "metadata": {
        "colab": {
          "base_uri": "https://localhost:8080/"
        },
        "id": "0aFk3Da7Akpv",
        "outputId": "6c451138-0233-4b5e-d238-9631d4c27fc8"
      },
      "execution_count": null,
      "outputs": [
        {
          "output_type": "stream",
          "name": "stdout",
          "text": [
            "[0, 1, 2, 3, 4, 5, 6, 7, 8, 9]\n",
            "[0 1 2 3 4 5 6 7 8 9]\n",
            "[10  9  8  7  6  5  4  3  2  1]\n",
            "[10  7  4  1 -2 -5 -8]\n"
          ]
        }
      ]
    },
    {
      "cell_type": "code",
      "source": [
        "#mathematical operations\n",
        "a=np.array([1,2,3])\n",
        "b=np.array([3,4,5])\n",
        "print(f\"The sum of a and b is {a+b}\")\n",
        "print(f\"The difference of a and b is {a-b}\")\n",
        "print(f\"The product of a and b is {a*b}\")\n",
        "print(f\"The division of a and b is {a/b}\")"
      ],
      "metadata": {
        "colab": {
          "base_uri": "https://localhost:8080/"
        },
        "id": "Tug_-QRoB10C",
        "outputId": "df4c0f42-a1d4-4683-b0de-50090692e17f"
      },
      "execution_count": null,
      "outputs": [
        {
          "output_type": "stream",
          "name": "stdout",
          "text": [
            "The sum of a and b is [4 6 8]\n",
            "The difference of a and b is [-2 -2 -2]\n",
            "The product of a and b is [ 3  8 15]\n",
            "The division of a and b is [0.33333333 0.5        0.6       ]\n"
          ]
        }
      ]
    },
    {
      "cell_type": "code",
      "source": [
        "# Matrix Multiplication\n",
        "b1=np.array([[1,2,3],[2,3,4]])\n",
        "b2=np.array([[5,6],[7,8],[1,3]])\n",
        "#Dot product--- product=AB -----A m x n----B n x p\n",
        "c=np.dot(b1,b2)\n",
        "print(c)"
      ],
      "metadata": {
        "colab": {
          "base_uri": "https://localhost:8080/"
        },
        "id": "5eXPKloFCi4Q",
        "outputId": "66657067-0237-4e5e-d6da-0eb95e9d8bab"
      },
      "execution_count": 45,
      "outputs": [
        {
          "output_type": "stream",
          "name": "stdout",
          "text": [
            "[[22 31]\n",
            " [35 48]]\n"
          ]
        }
      ]
    }
  ]
}