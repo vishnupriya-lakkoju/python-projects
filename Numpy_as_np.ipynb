{
  "nbformat": 4,
  "nbformat_minor": 0,
  "metadata": {
    "colab": {
      "provenance": []
    },
    "kernelspec": {
      "name": "python3",
      "display_name": "Python 3"
    },
    "language_info": {
      "name": "python"
    }
  },
  "cells": [
    {
      "cell_type": "code",
      "execution_count": 1,
      "metadata": {
        "id": "rqQvNnM13DqK"
      },
      "outputs": [],
      "source": [
        "import numpy as np"
      ]
    },
    {
      "cell_type": "code",
      "source": [
        "arr=np.array([[1,2,4],[4,5,7]])"
      ],
      "metadata": {
        "id": "QIYFsaRK3QYN"
      },
      "execution_count": 2,
      "outputs": []
    },
    {
      "cell_type": "code",
      "source": [
        "type(arr)"
      ],
      "metadata": {
        "colab": {
          "base_uri": "https://localhost:8080/"
        },
        "id": "mG_pyigB3vFZ",
        "outputId": "174828b9-5e8b-436d-afcf-8c81b92f7590"
      },
      "execution_count": 3,
      "outputs": [
        {
          "output_type": "execute_result",
          "data": {
            "text/plain": [
              "numpy.ndarray"
            ]
          },
          "metadata": {},
          "execution_count": 3
        }
      ]
    },
    {
      "cell_type": "code",
      "source": [
        "arr1=np.random.randint(1,2,(3,1))"
      ],
      "metadata": {
        "id": "76UFUfls3xZ3"
      },
      "execution_count": 29,
      "outputs": []
    },
    {
      "cell_type": "code",
      "source": [
        "print(arr1)"
      ],
      "metadata": {
        "colab": {
          "base_uri": "https://localhost:8080/"
        },
        "id": "lM5HG1b44goj",
        "outputId": "12a6d88e-e93c-426a-f9f4-ccecd18b282d"
      },
      "execution_count": 35,
      "outputs": [
        {
          "output_type": "stream",
          "name": "stdout",
          "text": [
            "[[1]\n",
            " [1]\n",
            " [1]]\n"
          ]
        }
      ]
    },
    {
      "cell_type": "code",
      "source": [
        "arr.shape\n",
        "arr1.shape"
      ],
      "metadata": {
        "colab": {
          "base_uri": "https://localhost:8080/"
        },
        "id": "_pFHnSpJ4jRk",
        "outputId": "7109efd3-8174-44b4-a081-30dfcecce75d"
      },
      "execution_count": 36,
      "outputs": [
        {
          "output_type": "execute_result",
          "data": {
            "text/plain": [
              "(3, 1)"
            ]
          },
          "metadata": {},
          "execution_count": 36
        }
      ]
    },
    {
      "cell_type": "code",
      "source": [
        "result=np.dot(arr,arr1)"
      ],
      "metadata": {
        "id": "At9AmMZb4qtw"
      },
      "execution_count": 33,
      "outputs": []
    },
    {
      "cell_type": "code",
      "source": [
        "print(result)"
      ],
      "metadata": {
        "colab": {
          "base_uri": "https://localhost:8080/"
        },
        "id": "nZI7jt_s4wEJ",
        "outputId": "63ddade3-63dd-4ac8-e85f-72762905a6f1"
      },
      "execution_count": 34,
      "outputs": [
        {
          "output_type": "stream",
          "name": "stdout",
          "text": [
            "[[ 7]\n",
            " [16]]\n"
          ]
        }
      ]
    },
    {
      "cell_type": "code",
      "source": [
        "r1=np.random.randint(10,20,(3,3))"
      ],
      "metadata": {
        "id": "EKIgGvI546p3"
      },
      "execution_count": 13,
      "outputs": []
    },
    {
      "cell_type": "code",
      "source": [
        "print(r1)"
      ],
      "metadata": {
        "colab": {
          "base_uri": "https://localhost:8080/"
        },
        "id": "viyRIy7P5Buv",
        "outputId": "77695b16-bd76-407f-f8cd-e9091b4b02fa"
      },
      "execution_count": 14,
      "outputs": [
        {
          "output_type": "stream",
          "name": "stdout",
          "text": [
            "[[19 16 13]\n",
            " [10 10 16]\n",
            " [14 18 10]]\n"
          ]
        }
      ]
    },
    {
      "cell_type": "code",
      "source": [
        "r2=np.eye(3)\n",
        "print(r2)"
      ],
      "metadata": {
        "colab": {
          "base_uri": "https://localhost:8080/"
        },
        "id": "Wbr7mmF65Fec",
        "outputId": "0c0897c1-98c0-48a2-d6f9-15865a6963f8"
      },
      "execution_count": 15,
      "outputs": [
        {
          "output_type": "stream",
          "name": "stdout",
          "text": [
            "[[1. 0. 0.]\n",
            " [0. 1. 0.]\n",
            " [0. 0. 1.]]\n"
          ]
        }
      ]
    },
    {
      "cell_type": "code",
      "source": [
        "result2=np.dot(r2,r1)"
      ],
      "metadata": {
        "id": "ExUnjS4_5NRj"
      },
      "execution_count": 18,
      "outputs": []
    },
    {
      "cell_type": "code",
      "source": [
        "print(result2)"
      ],
      "metadata": {
        "colab": {
          "base_uri": "https://localhost:8080/"
        },
        "id": "RuseKse85Z3E",
        "outputId": "5adc88b0-6bc2-4656-aebe-d636c4415edf"
      },
      "execution_count": 19,
      "outputs": [
        {
          "output_type": "stream",
          "name": "stdout",
          "text": [
            "[[19. 16. 13.]\n",
            " [10. 10. 16.]\n",
            " [14. 18. 10.]]\n"
          ]
        }
      ]
    },
    {
      "cell_type": "code",
      "source": [
        "#M.I=M=I.M\n",
        "#mathematical operations\n",
        "#+,-,*,/\n",
        "t1=np.random.randint(3,6,(3,3))\n",
        "t2=np.random.randint(3,6,(3,3))\n",
        "print(t1)\n",
        "print(t2)\n",
        "\n"
      ],
      "metadata": {
        "colab": {
          "base_uri": "https://localhost:8080/"
        },
        "id": "Ugbn3ki95i_z",
        "outputId": "5fd0d093-a0f7-475d-cd3b-0d002b8f696e"
      },
      "execution_count": 40,
      "outputs": [
        {
          "output_type": "stream",
          "name": "stdout",
          "text": [
            "[[5 4 4]\n",
            " [3 5 3]\n",
            " [3 5 4]]\n",
            "[[3 3 5]\n",
            " [4 4 3]\n",
            " [3 3 5]]\n"
          ]
        }
      ]
    },
    {
      "cell_type": "code",
      "source": [
        "t3=t1*t2"
      ],
      "metadata": {
        "id": "ni_ZYJtY9IG6"
      },
      "execution_count": 38,
      "outputs": []
    },
    {
      "cell_type": "code",
      "source": [
        "print(t3)"
      ],
      "metadata": {
        "colab": {
          "base_uri": "https://localhost:8080/"
        },
        "id": "yxjmHrfT9OF0",
        "outputId": "4a10c853-03d2-473e-ecb7-746b71aec9db"
      },
      "execution_count": 39,
      "outputs": [
        {
          "output_type": "stream",
          "name": "stdout",
          "text": [
            "[[16  9 15]\n",
            " [ 9 20 12]\n",
            " [20 12 16]]\n"
          ]
        }
      ]
    },
    {
      "cell_type": "code",
      "source": [
        "#matrix multiplication\n",
        "result=np.dot(arr,arr1)"
      ],
      "metadata": {
        "id": "308Wd-ww9Zgt"
      },
      "execution_count": 41,
      "outputs": []
    },
    {
      "cell_type": "code",
      "source": [
        "#statistical operations\n",
        "mean=t3.mean()\n",
        "max=t3.max()\n",
        "median=np.median(t3)\n",
        "std=np.std(t3)\n",
        "var=np.var(t3)"
      ],
      "metadata": {
        "id": "v2e4OVzF9jyl"
      },
      "execution_count": 50,
      "outputs": []
    },
    {
      "cell_type": "code",
      "source": [
        "print(mean)\n",
        "print(max)\n",
        "print(median)\n",
        "print(std)\n",
        "print(var)\n",
        "print(std*std)"
      ],
      "metadata": {
        "colab": {
          "base_uri": "https://localhost:8080/"
        },
        "id": "Fe5yjWAC9usT",
        "outputId": "a9b75b5e-1dfb-4b63-c6df-99b6014de9ef"
      },
      "execution_count": 52,
      "outputs": [
        {
          "output_type": "stream",
          "name": "stdout",
          "text": [
            "14.333333333333334\n",
            "20\n",
            "15.0\n",
            "3.9157800414902435\n",
            "15.333333333333334\n",
            "15.333333333333334\n"
          ]
        }
      ]
    },
    {
      "cell_type": "code",
      "source": [
        "#Trignometric functions\n",
        "#sin(x),cos(x),tan(x),cot(x),cosec(x),sec(x)\n",
        "angles=np.array([0,15,30,45,60,75,90])\n",
        "result=np.sin(np.radians(angles))\n",
        "result1=np.cos(np.radians(angles))\n",
        "result2=np.tan(np.radians(angles))"
      ],
      "metadata": {
        "id": "Ctc78Jf5_And"
      },
      "execution_count": 57,
      "outputs": []
    },
    {
      "cell_type": "code",
      "source": [
        "print(result)\n",
        "print(result1)\n",
        "print(result2)"
      ],
      "metadata": {
        "colab": {
          "base_uri": "https://localhost:8080/"
        },
        "id": "krsayuEB_4Py",
        "outputId": "0dbb3f2c-cf5b-473a-9a17-4402f48e5de4"
      },
      "execution_count": 58,
      "outputs": [
        {
          "output_type": "stream",
          "name": "stdout",
          "text": [
            "[0.         0.25881905 0.5        0.70710678 0.8660254  0.96592583\n",
            " 1.        ]\n",
            "[1.00000000e+00 9.65925826e-01 8.66025404e-01 7.07106781e-01\n",
            " 5.00000000e-01 2.58819045e-01 6.12323400e-17]\n",
            "[0.00000000e+00 2.67949192e-01 5.77350269e-01 1.00000000e+00\n",
            " 1.73205081e+00 3.73205081e+00 1.63312394e+16]\n"
          ]
        }
      ]
    },
    {
      "cell_type": "code",
      "source": [
        "arr=np.array([1,2,3,4,5,6])\n",
        "#Reshape the array\n",
        "reshapearr=arr.reshape(2,3)\n",
        "print(reshapearr)\n",
        "#to convert/flatten any n dim array\n",
        "flattenedarr=arr.flatten()\n",
        "print(flattenedarr)"
      ],
      "metadata": {
        "colab": {
          "base_uri": "https://localhost:8080/"
        },
        "id": "9sxShsEvAvPx",
        "outputId": "73a7c503-3f3f-4fc4-cb08-a198d709a5b5"
      },
      "execution_count": 60,
      "outputs": [
        {
          "output_type": "stream",
          "name": "stdout",
          "text": [
            "[[1 2 3]\n",
            " [4 5 6]]\n",
            "[1 2 3 4 5 6]\n"
          ]
        }
      ]
    },
    {
      "cell_type": "code",
      "source": [
        "#stacking the data\n",
        "arr1=np.array([1,2,3,4])\n",
        "arr2=np.array([10,20,30,40])\n",
        "#vertical stacking\n",
        "arr3=np.vstack((arr1,arr2))\n",
        "print(f\"the shape of arr3 is {arr3.shape}\")\n",
        "print(arr3)\n",
        "#horizontal stacking\n",
        "arr4=np.hstack((arr1,arr2))\n",
        "print(f\"the shape of arr4 is {arr4.shape}\")\n",
        "print(arr4)\n"
      ],
      "metadata": {
        "colab": {
          "base_uri": "https://localhost:8080/"
        },
        "id": "fLLwsOWfEc_W",
        "outputId": "72b19ee6-07dd-46be-aea3-027e5a5f221f"
      },
      "execution_count": 66,
      "outputs": [
        {
          "output_type": "stream",
          "name": "stdout",
          "text": [
            "the shape of arr3 is (2, 4)\n",
            "[[ 1  2  3  4]\n",
            " [10 20 30 40]]\n",
            "the shape of arr4 is (8,)\n",
            "[ 1  2  3  4 10 20 30 40]\n"
          ]
        }
      ]
    },
    {
      "cell_type": "code",
      "source": [
        "#filtering\n",
        "arr=np.array([10,20,30,40,50,60,70,80])\n",
        "farr=arr[arr>40]\n",
        "print(farr)"
      ],
      "metadata": {
        "colab": {
          "base_uri": "https://localhost:8080/"
        },
        "id": "5vooiG6vGIvN",
        "outputId": "9c35e27c-1ba2-4660-8ca8-91403d03e9d1"
      },
      "execution_count": 67,
      "outputs": [
        {
          "output_type": "stream",
          "name": "stdout",
          "text": [
            "[50 60 70 80]\n"
          ]
        }
      ]
    },
    {
      "cell_type": "code",
      "source": [],
      "metadata": {
        "colab": {
          "base_uri": "https://localhost:8080/",
          "height": 141
        },
        "id": "uuhoQXJJI0oJ",
        "outputId": "8e4e01e1-c705-4528-ce11-26b3eb8661a0"
      },
      "execution_count": 70,
      "outputs": [
        {
          "output_type": "error",
          "ename": "NameError",
          "evalue": "name 'printf' is not defined",
          "traceback": [
            "\u001b[0;31m---------------------------------------------------------------------------\u001b[0m",
            "\u001b[0;31mNameError\u001b[0m                                 Traceback (most recent call last)",
            "\u001b[0;32m<ipython-input-70-2626fbed7247>\u001b[0m in \u001b[0;36m<cell line: 0>\u001b[0;34m()\u001b[0m\n\u001b[0;32m----> 1\u001b[0;31m \u001b[0mprintf\u001b[0m\u001b[0;34m(\u001b[0m\u001b[0;34m\"%d\"\u001b[0m\u001b[0;34m)\u001b[0m\u001b[0;34m\u001b[0m\u001b[0;34m\u001b[0m\u001b[0m\n\u001b[0m",
            "\u001b[0;31mNameError\u001b[0m: name 'printf' is not defined"
          ]
        }
      ]
    }
  ]
}