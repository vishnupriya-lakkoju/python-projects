{
 "cells": [
  {
   "cell_type": "code",
   "execution_count": null,
   "metadata": {},
   "outputs": [],
   "source": [
    "import random\n",
    "a=0\n",
    "b=10\n",
    "print(\"Guess a number between {a} and {b}\")\n",
    "guessvalue=random.randint(a,b)\n",
    "isvalue=True\n",
    "while isvalue:\n",
    "    answer=input(\"enter your number:\")\n",
    "    if(answer.isnumeric()):\n",
    "        answer=int(answer)\n",
    "        if(guessvalue!=answer):\n",
    "            print(\"Your guess is not correct!!\")\n",
    "        else:\n",
    "            print(\"Your guess is correct!!\")\n",
    "    else:\n",
    "        print(\"Please enter valid number\")\n"
   ]
  }
 ],
 "metadata": {
  "kernelspec": {
   "display_name": "Python 3",
   "language": "python",
   "name": "python3"
  },
  "language_info": {
   "codemirror_mode": {
    "name": "ipython",
    "version": 3
   },
   "file_extension": ".py",
   "mimetype": "text/x-python",
   "name": "python",
   "nbconvert_exporter": "python",
   "pygments_lexer": "ipython3",
   "version": "3.9.0"
  }
 },
 "nbformat": 4,
 "nbformat_minor": 2
}
