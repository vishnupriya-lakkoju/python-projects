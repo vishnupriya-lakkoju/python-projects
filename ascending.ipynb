{
 "cells": [
  {
   "cell_type": "code",
   "execution_count": 2,
   "metadata": {},
   "outputs": [],
   "source": [
    "numbers=[2,3,7,9,1,6,5]\n",
    "asc_order=[]\n",
    "def minimum(num):\n",
    "    mini_value=num[0]\n",
    "    for x in num:\n",
    "        if x<=mini_value:\n",
    "            mini_value=x\n",
    "    num.remove(mini_value)\n",
    "    asc_order.append(mini_value)\n",
    "for x in range(len(numbers)):\n",
    "    minimum(numbers)\n",
    "print(asc_order)"
   ]
  }
 ],
 "metadata": {
  "kernelspec": {
   "display_name": "Python 3",
   "language": "python",
   "name": "python3"
  },
  "language_info": {
   "codemirror_mode": {
    "name": "ipython",
    "version": 3
   },
   "file_extension": ".py",
   "mimetype": "text/x-python",
   "name": "python",
   "nbconvert_exporter": "python",
   "pygments_lexer": "ipython3",
   "version": "3.9.13"
  }
 },
 "nbformat": 4,
 "nbformat_minor": 2
}
